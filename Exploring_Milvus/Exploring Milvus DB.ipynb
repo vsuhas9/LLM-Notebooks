{
 "cells": [
  {
   "cell_type": "markdown",
   "id": "bd48ce38-c3a8-4602-8e2f-66ee5be046f3",
   "metadata": {},
   "source": [
    "# Installing Packages"
   ]
  },
  {
   "cell_type": "code",
   "execution_count": 1,
   "id": "be2a4bae-4e2a-49ff-b4a7-04328a4011ca",
   "metadata": {},
   "outputs": [
    {
     "name": "stdout",
     "output_type": "stream",
     "text": [
      "Requirement already satisfied: pymilvus in g:\\work\\llms\\llm-notebooks\\env\\lib\\site-packages (2.4.6)\n",
      "Requirement already satisfied: ujson>=2.0.0 in g:\\work\\llms\\llm-notebooks\\env\\lib\\site-packages (from pymilvus) (5.10.0)\n",
      "Requirement already satisfied: setuptools>69 in g:\\work\\llms\\llm-notebooks\\env\\lib\\site-packages (from pymilvus) (75.1.0)\n",
      "Requirement already satisfied: environs<=9.5.0 in g:\\work\\llms\\llm-notebooks\\env\\lib\\site-packages (from pymilvus) (9.5.0)\n",
      "Requirement already satisfied: protobuf>=3.20.0 in g:\\work\\llms\\llm-notebooks\\env\\lib\\site-packages (from pymilvus) (5.28.1)\n",
      "Requirement already satisfied: pandas>=1.2.4 in g:\\work\\llms\\llm-notebooks\\env\\lib\\site-packages (from pymilvus) (2.2.2)\n",
      "Requirement already satisfied: grpcio>=1.49.1 in g:\\work\\llms\\llm-notebooks\\env\\lib\\site-packages (from pymilvus) (1.66.1)\n",
      "Requirement already satisfied: marshmallow>=3.0.0 in g:\\work\\llms\\llm-notebooks\\env\\lib\\site-packages (from environs<=9.5.0->pymilvus) (3.22.0)\n",
      "Requirement already satisfied: python-dotenv in g:\\work\\llms\\llm-notebooks\\env\\lib\\site-packages (from environs<=9.5.0->pymilvus) (1.0.1)\n",
      "Requirement already satisfied: pytz>=2020.1 in g:\\work\\llms\\llm-notebooks\\env\\lib\\site-packages (from pandas>=1.2.4->pymilvus) (2024.2)\n",
      "Requirement already satisfied: python-dateutil>=2.8.2 in g:\\work\\llms\\llm-notebooks\\env\\lib\\site-packages (from pandas>=1.2.4->pymilvus) (2.9.0.post0)\n",
      "Requirement already satisfied: tzdata>=2022.7 in g:\\work\\llms\\llm-notebooks\\env\\lib\\site-packages (from pandas>=1.2.4->pymilvus) (2024.1)\n",
      "Requirement already satisfied: numpy>=1.22.4; python_version < \"3.11\" in g:\\work\\llms\\llm-notebooks\\env\\lib\\site-packages (from pandas>=1.2.4->pymilvus) (2.0.2)\n",
      "Requirement already satisfied: packaging>=17.0 in g:\\work\\llms\\llm-notebooks\\env\\lib\\site-packages (from marshmallow>=3.0.0->environs<=9.5.0->pymilvus) (24.1)\n",
      "Requirement already satisfied: six>=1.5 in g:\\work\\llms\\llm-notebooks\\env\\lib\\site-packages (from python-dateutil>=2.8.2->pandas>=1.2.4->pymilvus) (1.16.0)\n"
     ]
    },
    {
     "name": "stderr",
     "output_type": "stream",
     "text": [
      "WARNING: You are using pip version 20.2.3; however, version 24.2 is available.\n",
      "You should consider upgrading via the 'g:\\work\\llms\\llm-notebooks\\env\\scripts\\python.exe -m pip install --upgrade pip' command.\n"
     ]
    }
   ],
   "source": [
    "!pip install pymilvus pymilvus[model]"
   ]
  },
  {
   "cell_type": "code",
   "execution_count": null,
   "id": "5e6053d7-3444-4dbc-ac0b-309cedc9ed35",
   "metadata": {},
   "outputs": [],
   "source": []
  }
 ],
 "metadata": {
  "kernelspec": {
   "display_name": "Python 3 (ipykernel)",
   "language": "python",
   "name": "python3"
  },
  "language_info": {
   "codemirror_mode": {
    "name": "ipython",
    "version": 3
   },
   "file_extension": ".py",
   "mimetype": "text/x-python",
   "name": "python",
   "nbconvert_exporter": "python",
   "pygments_lexer": "ipython3",
   "version": "3.9.2"
  }
 },
 "nbformat": 4,
 "nbformat_minor": 5
}
