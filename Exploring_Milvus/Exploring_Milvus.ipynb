{
  "nbformat": 4,
  "nbformat_minor": 0,
  "metadata": {
    "colab": {
      "provenance": [],
      "authorship_tag": "ABX9TyOb3lxndeTUf7Acf1AmhNHf",
      "include_colab_link": true
    },
    "kernelspec": {
      "name": "python3",
      "display_name": "Python 3"
    },
    "language_info": {
      "name": "python"
    }
  },
  "cells": [
    {
      "cell_type": "markdown",
      "metadata": {
        "id": "view-in-github",
        "colab_type": "text"
      },
      "source": [
        "<a href=\"https://colab.research.google.com/github/vsuhas9/LLM-Notebooks/blob/main/Exploring_Milvus/Exploring_Milvus.ipynb\" target=\"_parent\"><img src=\"https://colab.research.google.com/assets/colab-badge.svg\" alt=\"Open In Colab\"/></a>"
      ]
    },
    {
      "cell_type": "markdown",
      "source": [
        "# Step - 1: Installing Packages\n",
        "\n"
      ],
      "metadata": {
        "id": "-_GCtgP-SRFt"
      }
    },
    {
      "cell_type": "code",
      "execution_count": null,
      "metadata": {
        "id": "V26fMeTCRvWn"
      },
      "outputs": [],
      "source": [
        "!pip install pymilvus pymilvus[model]"
      ]
    },
    {
      "cell_type": "markdown",
      "source": [
        "# Step - 2: Import Packages"
      ],
      "metadata": {
        "id": "eToXHqhutQae"
      }
    },
    {
      "cell_type": "code",
      "source": [
        "from pymilvus import MilvusClient\n",
        "from pymilvus import model\n",
        "import json\n"
      ],
      "metadata": {
        "id": "T_YBkp1WtS5w"
      },
      "execution_count": null,
      "outputs": []
    },
    {
      "cell_type": "markdown",
      "source": [
        "# Step - 3: Define process items"
      ],
      "metadata": {
        "id": "EWnkCXnPoWjX"
      }
    },
    {
      "cell_type": "code",
      "source": [
        "db_name = \"test_db\"\n",
        "collection_name = \"test_collection\"\n",
        "documents = [\n",
        "    \"Hello how are you doing\",\n",
        "     \"Hello World\",\n",
        "]\n",
        "documents_metadata = [\n",
        "\"hello text-1 metadata\",\n",
        "\"hello text-2 metadata\"\n",
        "]\n",
        "query = \"Hello\""
      ],
      "metadata": {
        "id": "Q2ZSJfPaoeHv"
      },
      "execution_count": null,
      "outputs": []
    },
    {
      "cell_type": "markdown",
      "source": [
        "# Step - 4: Creating a Milvus In-Memeory DB"
      ],
      "metadata": {
        "id": "EA16XH0lSPl2"
      }
    },
    {
      "cell_type": "code",
      "source": [
        "# Creates a In-memory DB with the name milvus\n",
        "client = MilvusClient(\"milvus.db\")"
      ],
      "metadata": {
        "id": "DvyNiDb2SOlq"
      },
      "execution_count": null,
      "outputs": []
    },
    {
      "cell_type": "markdown",
      "source": [
        "# Step - 5: Create Database"
      ],
      "metadata": {
        "id": "pzRP8Imcmwmy"
      }
    },
    {
      "cell_type": "code",
      "source": [
        "# Creates a Data base\n",
        "try:\n",
        "  client.create_database(db_name)\n",
        "except:\n",
        "  print(\"Running In colab, will be using default db\")"
      ],
      "metadata": {
        "id": "sfpQqGV0SgDA"
      },
      "execution_count": null,
      "outputs": []
    },
    {
      "cell_type": "markdown",
      "source": [
        "# Step - 6: Create Collection"
      ],
      "metadata": {
        "id": "klXlZ4SFm1XB"
      }
    },
    {
      "cell_type": "code",
      "source": [
        "# Creates a Collection\n",
        "client.create_collection(collection_name, dimension=1024, auto_id=True)"
      ],
      "metadata": {
        "id": "kv5ce00pTHec"
      },
      "execution_count": null,
      "outputs": []
    },
    {
      "cell_type": "markdown",
      "source": [
        "# Step - 7: Convert Documents to Vectors for Storage"
      ],
      "metadata": {
        "id": "dS8pMS0Em5BC"
      }
    },
    {
      "cell_type": "code",
      "source": [
        "# Load the Model\n",
        "bge_m3 = model.hybrid.BGEM3EmbeddingFunction(\n",
        "            model_name='BAAI/bge-m3', # Specify t`he model name\n",
        "            device='cpu', # Specify the device to use, e.g., 'cpu' or 'cuda:0'\n",
        "            use_fp16=False # Whether to use fp16. `False` for `device='cpu'`.\n",
        "        )\n",
        "\n",
        "# Convert the documents\n",
        "vectors = bge_m3.encode_documents(documents)"
      ],
      "metadata": {
        "id": "-Da1ryuNm9vL"
      },
      "execution_count": null,
      "outputs": []
    },
    {
      "cell_type": "markdown",
      "source": [
        "# Step - 8: Store Documents"
      ],
      "metadata": {
        "id": "lXdEhBhznAUR"
      }
    },
    {
      "cell_type": "code",
      "source": [
        "data = []\n",
        "for doc_id in range(len(documents)):\n",
        "    data.append({\n",
        "        \"vector\": vectors[\"dense\"][doc_id],\n",
        "        \"text\": documents[doc_id],\n",
        "        \"metadata\": documents_metadata[doc_id]\n",
        "    })\n",
        "client.insert(collection_name, data)"
      ],
      "metadata": {
        "id": "N2YP2BiinCN_"
      },
      "execution_count": null,
      "outputs": []
    },
    {
      "cell_type": "markdown",
      "source": [
        "# Step - 9: Retrieve Document based on Query"
      ],
      "metadata": {
        "id": "KidoZ10QnC9S"
      }
    },
    {
      "cell_type": "markdown",
      "source": [
        "## Step - 9A: Convert query to vector"
      ],
      "metadata": {
        "id": "snRov7jpnbYk"
      }
    },
    {
      "cell_type": "code",
      "source": [
        "query_vector = bge_m3.encode_documents([query])[\"dense\"]"
      ],
      "metadata": {
        "id": "f2Wa5Lk5nhgR"
      },
      "execution_count": null,
      "outputs": []
    },
    {
      "cell_type": "markdown",
      "source": [
        "## Step - 9B: Query the DB"
      ],
      "metadata": {
        "id": "Lm-OR64-ngv1"
      }
    },
    {
      "cell_type": "code",
      "source": [
        "retrieved_data = client.search(\n",
        "    collection_name=collection_name,  # target collection\n",
        "    data=query_vector,  # query vectors\n",
        "    limit=2,  # number of returned entities\n",
        "    output_fields=[\"text\", \"metadata\"],  # specifies fields to be returned\n",
        ")\n",
        "\n",
        "results = eval(json.dumps(retrieved_data, indent=4))[0]\n",
        "for doc in results:\n",
        "  current_doc = doc[\"entity\"]\n",
        "  print(\"content: \", current_doc[\"text\"])\n",
        "  print(\"metadata: \", current_doc[\"metadata\"])\n",
        "  print(\"-\"*50)\n",
        "  print()\n"
      ],
      "metadata": {
        "id": "B5FxU1XLnfhF"
      },
      "execution_count": null,
      "outputs": []
    },
    {
      "cell_type": "markdown",
      "source": [
        "# Step - 10: Delete the Collection and Database"
      ],
      "metadata": {
        "id": "SbV3eIF7uyd_"
      }
    },
    {
      "cell_type": "code",
      "source": [
        "# Drops a Collection\n",
        "client.drop_collection(collection_name)"
      ],
      "metadata": {
        "id": "i_YDeAnWpU1n"
      },
      "execution_count": null,
      "outputs": []
    },
    {
      "cell_type": "code",
      "source": [
        "# Drops a Database\n",
        "try:\n",
        "  client.drop_database(db_name)\n",
        "except:\n",
        "  print(\"Running In colab\")"
      ],
      "metadata": {
        "id": "S0Apwz2hpIjn"
      },
      "execution_count": null,
      "outputs": []
    }
  ]
}